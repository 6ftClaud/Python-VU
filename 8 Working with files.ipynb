{
 "cells": [
  {
   "cell_type": "markdown",
   "metadata": {
    "collapsed": true
   },
   "source": [
    "# Working with text files\n",
    "\n",
    "The sequence of actions to work with data files: opening the file, performing operations (reading, writing), closing the file, and freeing up resources.\n",
    "\n",
    "The open() function opens a file, and returns it as a file object."
   ]
  },
  {
   "cell_type": "code",
   "execution_count": null,
   "metadata": {},
   "outputs": [],
   "source": [
    "file_obj = open(\"files/files/names.txt\")\n",
    "print(file_obj)"
   ]
  },
  {
   "cell_type": "markdown",
   "metadata": {},
   "source": [
    "When you open a file, you can specify how the file will be opened. The way the file is opened allows you to specify whether the file will be used for reading, writing, or adding data. You can also specify whether the file will be text or binary. If no method is specified, the file is opened by default in text-reading mode. To open a Python file:\n",
    "\n",
    "mode| description\n",
    "--- | ---\n",
    "r\t| Read \n",
    "w\t| Write  (Opens a file for writing, creates the file if it does not exist)\n",
    "x\t| Create (Creates the specified file, returns an error if the file exist)\n",
    "a\t| Append (Opens a file for appending, creates the file if it does not exist)\n",
    "t\t| Text mode\n",
    "b\t| Binary mode\n",
    "+\t| opens file for editing (reading and writing)"
   ]
  },
  {
   "cell_type": "code",
   "execution_count": null,
   "metadata": {},
   "outputs": [],
   "source": [
    "file_obj = open(\"files/files/names.txt\")      # match 'rt'\n",
    "file_obj = open(\"files/files/names.txt\",\"w\")  # writing in text mode\n",
    "file_obj = open(\"files/files/names.txt\",\"r+b\") # reading and writing in binary mode"
   ]
  },
  {
   "cell_type": "markdown",
   "metadata": {},
   "source": [
    "When working with text files, it is important to specify the file encoding."
   ]
  },
  {
   "cell_type": "code",
   "execution_count": null,
   "metadata": {},
   "outputs": [],
   "source": [
    "file_obj = open(\"files/files/names.txt\", mode=\"r\", encoding=\"utf-8\")"
   ]
  },
  {
   "cell_type": "code",
   "execution_count": null,
   "metadata": {},
   "outputs": [],
   "source": [
    "# file must be closed when the work with it is finished\n",
    "file_obj.close()"
   ]
  },
  {
   "cell_type": "markdown",
   "metadata": {},
   "source": [
    "Opening and manipulating a file can result in some errors that will stop the code from executing before the file close command is reached. Therefore, it is important to always close the file when working with files."
   ]
  },
  {
   "cell_type": "code",
   "execution_count": null,
   "metadata": {},
   "outputs": [],
   "source": [
    "# safe file closing try..finally...\n",
    "try:\n",
    "    file_obj = open(\"files/files/names.txt\")\n",
    "    # operations with file are performed\n",
    "finally:\n",
    "    file_obj.close()"
   ]
  },
  {
   "cell_type": "code",
   "execution_count": null,
   "metadata": {},
   "outputs": [],
   "source": [
    "# safe file closing with command, the opened file is automatically closed\n",
    "with open(\"files/files/names.txt\") as file_obj:\n",
    "    pass # operations with file are performed"
   ]
  },
  {
   "cell_type": "markdown",
   "metadata": {},
   "source": [
    "To write data to a file, you need to open it in 'w', 'a' or 'x' mode."
   ]
  },
  {
   "cell_type": "code",
   "execution_count": null,
   "metadata": {},
   "outputs": [],
   "source": [
    "# write writes to a file and returns the number of characters entered\n",
    "with open(\"files/files/numbers.txt\", \"w\") as file_obj:\n",
    "    print(file_obj.write(\"one\\n\"))\n",
    "    file_obj.write(\"two\\n\")\n",
    "    file_obj.write(\"three\\n\")\n",
    "    file_obj.write(\"four\\n\")\n",
    "    print(file_obj.write(\"seven\\n\"))"
   ]
  },
  {
   "cell_type": "code",
   "execution_count": null,
   "metadata": {},
   "outputs": [],
   "source": [
    "# writelines writes a list of strings to a file\n",
    "with open(\"files/files/numbers.txt\", \"w\") as file_obj:\n",
    "    file_obj.writelines([\"three\\n\", \"four\\n\", \"five\\n\"])"
   ]
  },
  {
   "cell_type": "markdown",
   "metadata": {},
   "source": [
    "To read data from a file, you need to open the file in read mode."
   ]
  },
  {
   "cell_type": "code",
   "execution_count": null,
   "metadata": {},
   "outputs": [],
   "source": [
    "# the file is reading with the read command\n",
    "with open(\"files/files/numbers.txt\", \"r\") as file_obj:\n",
    "    print(file_obj.read(3))\n",
    "    print(file_obj.read(4))\n",
    "    print(file_obj.read())\n",
    "    print(file_obj.read())\n",
    "    print(file_obj.read(3))"
   ]
  },
  {
   "cell_type": "code",
   "execution_count": null,
   "metadata": {},
   "outputs": [],
   "source": [
    "# changing file cursor position\n",
    "with open(\"files/files/numbers.txt\", \"r\") as file_obj:\n",
    "    print(file_obj.read(5))\n",
    "    print(file_obj.tell()) # current cursor position\n",
    "    print(file_obj.read(7))\n",
    "    print(file_obj.tell()) # current cursor position\n",
    "    file_obj.seek(0) # changing cursor position\n",
    "    print(file_obj.read(5))\n",
    "    print(file_obj.tell()) # current cursor position\n",
    "    file_obj.seek(12) # changing cursor position\n",
    "    print(file_obj.read())"
   ]
  },
  {
   "cell_type": "code",
   "execution_count": null,
   "metadata": {},
   "outputs": [],
   "source": [
    "# read one line of a file\n",
    "with open(\"files/files/numbers.txt\", \"r\") as file_obj:\n",
    "    print(file_obj.readline())\n",
    "    print(file_obj.readline())\n",
    "    print(file_obj.readline())\n",
    "    print(file_obj.readline())"
   ]
  },
  {
   "cell_type": "code",
   "execution_count": null,
   "metadata": {},
   "outputs": [],
   "source": [
    "# read all lines of a file\n",
    "with open(\"files/files/numbers.txt\", \"r\") as file_obj:\n",
    "    print(file_obj.readlines())"
   ]
  },
  {
   "cell_type": "code",
   "execution_count": null,
   "metadata": {},
   "outputs": [],
   "source": [
    "# reading the file one line at a time\n",
    "with open(\"files/files/numbers.txt\", \"r\") as file_obj:\n",
    "    for line in file_obj:\n",
    "        print(line, end=\"\")"
   ]
  },
  {
   "cell_type": "markdown",
   "metadata": {},
   "source": [
    "# Working with CSV files\n",
    "\n",
    "To work with Comma Separated Values (CSV) files in Python, a csv module is created. A CSV file is a human-readable and readable text file. CSV contains rows of data fields separated by commas (may be different field delimiter).\n",
    "```csv\n",
    "Player,Position,Number\n",
    "Brandon Davies,Center,0\n",
    "Kevin Pangos,Defender,3\n",
    "Arturas Milaknis,Defender,21\n",
    "```"
   ]
  },
  {
   "cell_type": "code",
   "execution_count": null,
   "metadata": {},
   "outputs": [],
   "source": [
    "# writing data to a csv file using the writerow () method\n",
    "data = [\"Player,Position,Number\".split(\",\"),\n",
    "        \"Brandon Davies,Center,0\".split(\",\"),\n",
    "        \"Kevin Pangos,Defender,3\".split(\",\"),\n",
    "        \"Arturas Milaknis,Defender,21\".split(\",\")\n",
    "       ]\n",
    "\n",
    "with open(\"files/files/players.csv\", \"w\") as file_obj:\n",
    "    writer = csv.writer(file_obj, delimiter=\",\")\n",
    "    for line in data:\n",
    "        writer.writerow(line)"
   ]
  },
  {
   "cell_type": "code",
   "execution_count": null,
   "metadata": {},
   "outputs": [],
   "source": [
    "# writing data to a csv file using the DictWriter class\n",
    "field_names = \"Player,Position,Number\".split(\",\")\n",
    "\n",
    "data = [\"Brandon Davies,Center,0\".split(\",\"),\n",
    "        \"Kevin Pangos,Defender,3\".split(\",\"),\n",
    "        \"Arturas Milaknis,Defender,21\".split(\",\")\n",
    "       ]\n",
    "\n",
    "with open(\"files/files/players.csv\", \"w\") as file_obj:\n",
    "    writer = csv.DictWriter(file_obj, delimiter=\",\", fieldnames=field_names)\n",
    "    writer.writeheader()\n",
    "    \n",
    "    for line in data:\n",
    "        writer.writerow({\"Number\": line[2], \"Player\": line[0], \"Position\": line[1]})"
   ]
  },
  {
   "cell_type": "code",
   "execution_count": null,
   "metadata": {},
   "outputs": [],
   "source": [
    "# reading a csv file using the reader () function\n",
    "import csv\n",
    "\n",
    "with open(\"files/files/players.csv\", \"r\") as file_obj:\n",
    "    reader = csv.reader(file_obj)\n",
    "    for row in reader:\n",
    "        print(row)"
   ]
  },
  {
   "cell_type": "code",
   "execution_count": null,
   "metadata": {},
   "outputs": [],
   "source": [
    "# reading a csv file using the DictReader class\n",
    "import csv\n",
    "\n",
    "with open(\"files/files/players.csv\", \"r\") as file_obj:\n",
    "    reader = csv.DictReader(file_obj, delimiter=\",\")\n",
    "    for line in reader:\n",
    "        print(line[\"Player\"]),\n",
    "        print(line[\"Position\"])\n",
    "        print(line[\"Number\"])"
   ]
  },
  {
   "cell_type": "markdown",
   "metadata": {},
   "source": [
    "# Working with JSON files\n",
    "\n",
    "To work with JSON (JavaScript Object Notation) files in Python, a json module is created. The structure of the JSON file is very similar to structure of a dictionary. \n",
    "```json\n",
    "{\n",
    "    \"employees\":[\n",
    "        {\"Name\":\"Jonas\", \"lastname\":\"Jonaitis\"}, \n",
    "        {\"Name\":\"Petras\", \"lastname\":\"Petraitis\"},\n",
    "        {\"Name\":\"Sima\", \"lastname\":\"Simutė\"}\n",
    "    ]\n",
    "}\n",
    "```"
   ]
  },
  {
   "cell_type": "code",
   "execution_count": null,
   "metadata": {},
   "outputs": [],
   "source": [
    "# writing data to a json file using the dump () function\n",
    "import json\n",
    "\n",
    "data = {\n",
    "    \"employees\":[\n",
    "        {\"Name\":\"Jonas\", \"lastname\":\"Jonaitis\"}, \n",
    "        {\"Name\":\"Petras\", \"lastname\":\"Petraitis\"},\n",
    "        {\"Name\":\"Sima\", \"lastname\":\"Simutė\"}\n",
    "    ]\n",
    "}\n",
    "\n",
    "with open(\"files/files/employees.json\", \"w\", encoding=\"utf8\") as file_obj:\n",
    "    json.dump(data, file_obj, ensure_ascii=False, indent=4)"
   ]
  },
  {
   "cell_type": "code",
   "execution_count": null,
   "metadata": {},
   "outputs": [],
   "source": [
    "# converting data to json text\n",
    "import json\n",
    "\n",
    "data = {\n",
    "    \"employees\":[\n",
    "        {\"Name\":\"Jonas\", \"lastname\":\"Jonaitis\"}, \n",
    "        {\"Name\":\"Petras\", \"lastname\":\"Petraitis\"},\n",
    "        {\"Name\":\"Sima\", \"lastname\":\"Simutė\"}\n",
    "    ]\n",
    "}\n",
    "\n",
    "json_text = json.dumps(data, ensure_ascii=False)\n",
    "print(type(json_text))\n",
    "print(json_text)"
   ]
  },
  {
   "cell_type": "code",
   "execution_count": null,
   "metadata": {},
   "outputs": [],
   "source": [
    "# reading data from json file using load () function\n",
    "import json\n",
    "\n",
    "with open(\"files/files/employees.json\", \"r\", encoding=\"utf8\") as file_obj:\n",
    "    json_data = json.load(file_obj)\n",
    "    print(type(json_data))\n",
    "    print(json_data)"
   ]
  },
  {
   "cell_type": "code",
   "execution_count": null,
   "metadata": {},
   "outputs": [],
   "source": [
    "# convert text to json type (dictionary)\n",
    "import json\n",
    "\n",
    "json_text = '{\"employees\": [{\"Name\": \"Jonas\", \"lastname\": \"Jonaitis\"}, {\"Name\": \"Petras\", \"lastname\": \"Petraitis\"}, {\"Name\": \"Sima\", \"lastname\": \"Simutė\"}]}'\n",
    "\n",
    "json_data = json.loads(json_text)\n",
    "print(type(json_data))\n",
    "print(json_data)"
   ]
  },
  {
   "cell_type": "markdown",
   "metadata": {},
   "source": [
    "# Working with XML files\n",
    "\n",
    "An xml module is created for working with Extensible Markup Language (XML) files in Python. In these files, the data is structured using the tree principle.\n",
    "\n",
    "```xml\n",
    "<data>  \n",
    "    <items>\n",
    "        <item id=\"1\">Coca Cola</item>\n",
    "        <item id=\"2\">Sprite</item>\n",
    "        <item id=\"3\">Fanta</item>\n",
    "        <item id=\"4\">Lithuanian</item>\n",
    "    </items>\n",
    "</data>  \n",
    "```"
   ]
  },
  {
   "cell_type": "code",
   "execution_count": null,
   "metadata": {},
   "outputs": [],
   "source": [
    "# writing data to xml file using ElementTree\n",
    "import xml.etree.ElementTree as ET\n",
    "\n",
    "data = ET.Element(\"data\")\n",
    "items = ET.SubElement(data, \"items\")\n",
    "item_1 = ET.SubElement(items, \"item\")\n",
    "item_2 = ET.SubElement(items, \"item\")\n",
    "item_3 = ET.SubElement(items, \"item\")\n",
    "item_4 = ET.SubElement(items, \"item\")\n",
    "\n",
    "item_1.set(\"id\", \"1\")\n",
    "item_2.set(\"id\", \"2\")\n",
    "item_3.set(\"id\", \"3\")\n",
    "item_4.set(\"id\", \"4\")\n",
    "\n",
    "item_1.text = \"Coca Cola\"\n",
    "item_2.text = \"Sprite\"\n",
    "item_3.text = \"Fanta\"\n",
    "item_4.text = \"Lithuanian\"\n",
    "\n",
    "tree = ET.ElementTree(data)\n",
    "tree.write(\"files/files/items.xml\", encoding=\"utf-8\")"
   ]
  },
  {
   "cell_type": "code",
   "execution_count": null,
   "metadata": {},
   "outputs": [],
   "source": [
    "# xml data reading\n",
    "import xml.etree.ElementTree as ET\n",
    "\n",
    "tree = ET.parse(\"files/files/items.xml\")\n",
    "root = tree.getroot()\n",
    "\n",
    "print(\"A specific attribute\")\n",
    "print(root[0][1].attrib)\n",
    "\n",
    "print(\"All attributes\")\n",
    "for elem in root:\n",
    "    for subelem in elem:\n",
    "        print(subelem.attrib)\n",
    "\n",
    "print(\"Data for a specific item\")\n",
    "print(root[0][1].text)\n",
    "\n",
    "print(\"Data for all elements\")\n",
    "for elem in root:\n",
    "    for subelem in elem:\n",
    "        print(subelem.text)"
   ]
  },
  {
   "cell_type": "code",
   "execution_count": null,
   "metadata": {},
   "outputs": [],
   "source": [
    "# data search in xml file\n",
    "import xml.etree.ElementTree as ET\n",
    "tree = ET.parse(\"files/files/items.xml\")\n",
    "root = tree.getroot()\n",
    "\n",
    "print(root.tag)\n",
    "\n",
    "for elem in root:\n",
    "    print(elem.tag)\n",
    "    for subelem in elem.findall(\"item\"):\n",
    "        print(subelem.attrib)\n",
    "        print(subelem.get(\"id\"))"
   ]
  },
  {
   "cell_type": "markdown",
   "metadata": {},
   "source": [
    "# Tasks\n",
    "\n",
    "1. Extend the Address Book application with the functionality of exporting contacts to a file. Create a new \"Export to File\" menu. Available options are: \"txt\" to text file, \"json\" to json file, \"csv\" to csv file and \"xml\" to xml file.\n",
    "2. Extend the Address Book application with functionality for importing contacts from files."
   ]
  }
 ],
 "metadata": {
  "kernelspec": {
   "display_name": "Python 3",
   "language": "python",
   "name": "python3"
  },
  "language_info": {
   "codemirror_mode": {
    "name": "ipython",
    "version": 3
   },
   "file_extension": ".py",
   "mimetype": "text/x-python",
   "name": "python",
   "nbconvert_exporter": "python",
   "pygments_lexer": "ipython3",
   "version": "3.6.6"
  }
 },
 "nbformat": 4,
 "nbformat_minor": 2
}
