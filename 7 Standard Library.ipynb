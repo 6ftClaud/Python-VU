{
 "cells": [
  {
   "cell_type": "markdown",
   "metadata": {},
   "source": [
    "# Python Standard Library\n",
    "\n",
    "Each Python installation also comes with a standard Python library that contains modules ready for use. A complete list of the standard Python library can be found at https://docs.python.org/3/library/index.html. \n",
    "\n",
    "An overview of the basic and commonly used modules from the standard library are presented below."
   ]
  },
  {
   "cell_type": "markdown",
   "metadata": {},
   "source": [
    "# time\n",
    "\n",
    "The functions implemented in the module are designed for working with time. "
   ]
  },
  {
   "cell_type": "code",
   "execution_count": null,
   "metadata": {},
   "outputs": [],
   "source": [
    "# the start of time on UNIX systems is considered to be midnight on 1970-01-01, on other systems - time.gmtime(0) \n",
    "import time\n",
    "print(time.gmtime(0))"
   ]
  },
  {
   "cell_type": "code",
   "execution_count": null,
   "metadata": {},
   "outputs": [],
   "source": [
    "# time.time() returns seconds (float) from epoch\n",
    "import time\n",
    "\n",
    "print(\"Time now: \", time.time())"
   ]
  },
  {
   "cell_type": "markdown",
   "metadata": {},
   "source": [
    "Time in Python is treated as a list of 9 numbers.\n",
    "\n",
    "index | description | values\n",
    "--- | --- | ---\n",
    "0\t| 4-digits year \t        | 2016\n",
    "1\t| month         \t        | 1 till 12\n",
    "2\t| day\t                    | 1 till 31\n",
    "3\t| hours             \t    | 0 till 23\n",
    "4\t| minutes          \t        | 0 till 59\n",
    "5\t| seconds         \t        | 0 till 61 (60 or 61 are leap-seconds)\n",
    "6\t| day of week   \t        | 0 till 6 (0 is monday)\n",
    "7\t| day of year         \t    | 1 till 366\n",
    "8\t| rewinding the clock \t    |-1, 0, 1, -1 indicates that the library detects clock rotation"
   ]
  },
  {
   "cell_type": "code",
   "execution_count": null,
   "metadata": {},
   "outputs": [],
   "source": [
    "import time\n",
    "t = time.time()\n",
    "print(time.localtime())\n",
    "print(time.localtime(t).tm_year)"
   ]
  },
  {
   "cell_type": "code",
   "execution_count": null,
   "metadata": {},
   "outputs": [],
   "source": [
    "# seconds from the beginning of the epoch to time\n",
    "import time\n",
    "\n",
    "t = time.time()\n",
    "\n",
    "local_time = time.localtime(t)\n",
    "print (\"local time is: \", local_time)\n",
    "\n",
    "utc_time = time.gmtime(t)\n",
    "print (\"UTC time is: \", local_time)"
   ]
  },
  {
   "cell_type": "code",
   "execution_count": null,
   "metadata": {},
   "outputs": [],
   "source": [
    "# time.sleep(secs) stops the process for a specified time (in seconds)\n",
    "import time\n",
    "\n",
    "print(\"Current time: \", time.localtime(time.time()))\n",
    "time.sleep(10)\n",
    "print(\"After 10 seconds: \", time.localtime(time.time()))"
   ]
  },
  {
   "cell_type": "code",
   "execution_count": null,
   "metadata": {},
   "outputs": [],
   "source": [
    "# time.strftime(format, time) converts time into formatted text\n",
    "# https://docs.python.org/3/library/time.html#time.strftime\n",
    "import time\n",
    "\n",
    "t = time.time()\n",
    "print(time.strftime(\"%Y-%M-%d %H:%M:%S\", time.localtime(t)))"
   ]
  },
  {
   "cell_type": "code",
   "execution_count": null,
   "metadata": {},
   "outputs": [],
   "source": [
    "# arithmetic with time\n",
    "import time\n",
    "\n",
    "t = time.time()\n",
    "print(\"Now\", time.strftime(\"%Y-%M-%d %H:%M:%S\", time.localtime(t)))\n",
    "\n",
    "print(\"Before 15 seconds\", time.strftime(\"%Y-%M-%d %H:%M:%S\", time.localtime(t-15)))\n",
    "\n",
    "print(\"After 15 seconds\", time.strftime(\"%Y-%M-%d %H:%M:%S\", time.localtime(t+15)))"
   ]
  },
  {
   "cell_type": "markdown",
   "metadata": {},
   "source": [
    "# datetime\n",
    "\n",
    "The functions implemented in the module are designed for working with time. "
   ]
  },
  {
   "cell_type": "code",
   "execution_count": null,
   "metadata": {},
   "outputs": [],
   "source": [
    "# datetime structure\n",
    "import datetime\n",
    "\n",
    "t = datetime.datetime.now()\n",
    "print(t)\n",
    "print(\"hours: \", t.hour)\n",
    "print(\"minutes: \", t.minute)\n",
    "print(\"seconds: \", t.second)\n",
    "print(\"microseconds: \", t.microsecond)\n",
    "print(\"time zone: \", t.tzinfo)"
   ]
  },
  {
   "cell_type": "code",
   "execution_count": null,
   "metadata": {},
   "outputs": [],
   "source": [
    "# datetime formatting\n",
    "import datetime\n",
    "\n",
    "dt = datetime.datetime.now()\n",
    "print(dt.strftime(\"%Y-%m-%d %H:%M:%S\"))"
   ]
  },
  {
   "cell_type": "code",
   "execution_count": null,
   "metadata": {},
   "outputs": [],
   "source": [
    "# converting text to a datetime object\n",
    "import datetime\n",
    "\n",
    "dt_object = datetime.datetime.strptime(\"2018-01-22 20:03\", \"%Y-%m-%d %H:%M\")\n",
    "print(dt_object)"
   ]
  },
  {
   "cell_type": "code",
   "execution_count": null,
   "metadata": {},
   "outputs": [],
   "source": [
    "# arithmetic with datetime\n",
    "import datetime\n",
    "\n",
    "dt = datetime.datetime.now()\n",
    "print(dt.strftime(\"%Y-%m-%d %H:%M:%S\"))\n",
    "\n",
    "dt += datetime.timedelta(minutes=5)\n",
    "print(dt.strftime(\"%Y-%m-%d %H:%M:%S\"))\n",
    "\n",
    "dt -= datetime.timedelta(days=5)\n",
    "print(dt.strftime(\"%Y-%m-%d %H:%M:%S\"))\n",
    "\n",
    "datetime.datetime.now()\n",
    "t_delta = dt - (dt - datetime.timedelta(minutes=5))\n",
    "print(t_delta)"
   ]
  },
  {
   "cell_type": "markdown",
   "metadata": {},
   "source": [
    "# random\n",
    "\n",
    "Functions implemented in the module are designed to generate random numbers of shells according to Mersenne Twister algorithm."
   ]
  },
  {
   "cell_type": "code",
   "execution_count": null,
   "metadata": {},
   "outputs": [],
   "source": [
    "# random.random() returns a random number between 0 and 1.0\n",
    "import random\n",
    "\n",
    "for i in range(5):\n",
    "    print(\"%04.3f\" % random.random(), end=\" \")\n",
    "print()"
   ]
  },
  {
   "cell_type": "code",
   "execution_count": null,
   "metadata": {},
   "outputs": [],
   "source": [
    "# random.uniform() generating random numbers from a given range\n",
    "import random\n",
    "\n",
    "for i in range(5):\n",
    "    print(\"{:04.3f}\".format(random.uniform(1, 100)), end=\" \")\n",
    "print()"
   ]
  },
  {
   "cell_type": "markdown",
   "metadata": {},
   "source": [
    "The random function returns random digits with each call, but sometimes the digits need to be repeated. This uses the seed () function, which initializes the random number generator."
   ]
  },
  {
   "cell_type": "code",
   "execution_count": null,
   "metadata": {},
   "outputs": [],
   "source": [
    "# seed() repeating random digits\n",
    "import random\n",
    "\n",
    "random.seed(1)\n",
    "\n",
    "for i in range(5):\n",
    "    print(\"{:04.3f}\".format(random.random()), end=\" \")\n",
    "print()\n",
    "\n",
    "random.seed(1)\n",
    "\n",
    "for i in range(5):\n",
    "    print(\"{:04.3f}\".format(random.random()), end=\" \")\n",
    "print()"
   ]
  },
  {
   "cell_type": "code",
   "execution_count": null,
   "metadata": {},
   "outputs": [],
   "source": [
    "# randint() generating random int type numbers\n",
    "import random\n",
    "\n",
    "print(\"[1, 100]:\", end=\" \")\n",
    "\n",
    "for i in range(3):\n",
    "    print(random.randint(1, 100), end=\" \")\n",
    "\n",
    "print(\"\\n[-5, 5]:\", end=\" \")\n",
    "for i in range(3):\n",
    "    print(random.randint(-5, 5), end=\" \")\n",
    "print()"
   ]
  },
  {
   "cell_type": "code",
   "execution_count": null,
   "metadata": {},
   "outputs": [],
   "source": [
    "# choice() selection of random values\n",
    "import random\n",
    "\n",
    "outcomes = {\n",
    "    \"heads\": 0,\n",
    "    \"tails\": 0,\n",
    "}\n",
    "sides = list(outcomes.keys())\n",
    "\n",
    "for i in range(10000):\n",
    "    outcomes[random.choice(sides)] += 1\n",
    "\n",
    "print('Heads:', outcomes['heads'])\n",
    "print('Tails:', outcomes['tails'])"
   ]
  },
  {
   "cell_type": "markdown",
   "metadata": {},
   "source": [
    "# math\n",
    "\n",
    "Functions implemented in the module are intended for performing mathematical operations."
   ]
  },
  {
   "cell_type": "code",
   "execution_count": null,
   "metadata": {},
   "outputs": [],
   "source": [
    "# constants\n",
    "\n",
    "import math\n",
    "\n",
    "print(\"π: %.30f\" % math.pi)\n",
    "print(\"e: %.30f\" % math.e)"
   ]
  },
  {
   "cell_type": "code",
   "execution_count": null,
   "metadata": {},
   "outputs": [],
   "source": [
    "# fabs() absolute value\n",
    "import math\n",
    "\n",
    "print(math.fabs(-1.1))\n",
    "print(math.fabs(-0.0))\n",
    "print(math.fabs(0.0))\n",
    "print(math.fabs(1.1))"
   ]
  },
  {
   "cell_type": "code",
   "execution_count": null,
   "metadata": {},
   "outputs": [],
   "source": [
    "# factorial() factorial calculation\n",
    "import math\n",
    "\n",
    "for i in [ 0, 1.0, 2.0, 3.0, 4.0, 5.0, 6.1 ]:\n",
    "    try:\n",
    "        print(\"{:2.0f}  {:6.0f}\".format(i, math.factorial(i)))\n",
    "    except ValueError as err:\n",
    "        print(\"Error computing factorial(%s):\" % i, err)"
   ]
  },
  {
   "cell_type": "code",
   "execution_count": null,
   "metadata": {},
   "outputs": [],
   "source": [
    "# power and square root\n",
    "import math\n",
    "\n",
    "print(math.pow(4, 3))\n",
    "print(math.sqrt(16))"
   ]
  },
  {
   "cell_type": "code",
   "execution_count": null,
   "metadata": {},
   "outputs": [],
   "source": [
    "# log() logarithm\n",
    "import math\n",
    "\n",
    "print(math.log(8))\n",
    "print(math.log(8, 2))"
   ]
  },
  {
   "cell_type": "code",
   "execution_count": null,
   "metadata": {},
   "outputs": [],
   "source": [
    "# sine, cosine, tangent, degree conversion to radians\n",
    "import math\n",
    "\n",
    "print(\"Degrees  Radians  Sine     Cosine    Tangent\")\n",
    "print(\"-------  -------  -------  --------  -------\")\n",
    "\n",
    "fmt = \"  \".join([\"%7.2f\"] * 5)\n",
    "\n",
    "for deg in range(0, 361, 30):\n",
    "    rad = math.radians(deg)\n",
    "    if deg in (90, 270):\n",
    "        t = float(\"inf\")\n",
    "    else:\n",
    "        t = math.tan(rad)\n",
    "    print(fmt % (deg, rad, math.sin(rad), math.cos(rad), t))"
   ]
  },
  {
   "cell_type": "markdown",
   "metadata": {},
   "source": [
    "# statistics\n",
    "\n",
    "The functions implemented in the module are intended for performing statistical operations."
   ]
  },
  {
   "cell_type": "code",
   "execution_count": null,
   "metadata": {},
   "outputs": [],
   "source": [
    "# average\n",
    "from statistics import *\n",
    "\n",
    "data = [1, 2, 2, 5, 10, 12]\n",
    "\n",
    "print('{:0.2f}'.format(mean(data)))"
   ]
  },
  {
   "cell_type": "code",
   "execution_count": null,
   "metadata": {},
   "outputs": [],
   "source": [
    "# mode\n",
    "from statistics import *\n",
    "\n",
    "data = [1, 2, 2, 5, 10, 12]\n",
    "\n",
    "print(mode(data))"
   ]
  },
  {
   "cell_type": "code",
   "execution_count": null,
   "metadata": {},
   "outputs": [],
   "source": [
    "# median\n",
    "from statistics import *\n",
    "\n",
    "data = [1, 2, 2, 5, 10, 12]\n",
    "\n",
    "print(\"mediana     : {:0.2f}\".format(median(data)))\n",
    "print(\"low        : {:0.2f}\".format(median_low(data)))\n",
    "print(\"high       : {:0.2f}\".format(median_high(data)))"
   ]
  },
  {
   "cell_type": "code",
   "execution_count": null,
   "metadata": {},
   "outputs": [],
   "source": [
    "# variation\n",
    "from statistics import *\n",
    "\n",
    "data = [1, 5, 5]\n",
    "\n",
    "print(variance(data))"
   ]
  },
  {
   "cell_type": "code",
   "execution_count": null,
   "metadata": {},
   "outputs": [],
   "source": [
    "# standard deviation\n",
    "from statistics import *\n",
    "\n",
    "data = [1, 5, 5]\n",
    "\n",
    "print(stdev(data))"
   ]
  },
  {
   "cell_type": "markdown",
   "metadata": {},
   "source": [
    "# os\n",
    "\n",
    "The functions implemented in the module are designed to interact with the OS."
   ]
  },
  {
   "cell_type": "code",
   "execution_count": null,
   "metadata": {},
   "outputs": [],
   "source": [
    "# current folder\n",
    "import os\n",
    "\n",
    "print(os.getcwd())"
   ]
  },
  {
   "cell_type": "code",
   "execution_count": null,
   "metadata": {},
   "outputs": [],
   "source": [
    "# creating a folder\n",
    "import os\n",
    "\n",
    "os.mkdir(\"testing\")"
   ]
  },
  {
   "cell_type": "code",
   "execution_count": null,
   "metadata": {},
   "outputs": [],
   "source": [
    "# folder rename\n",
    "\n",
    "os.rename(\"testing\", \"testing_1\")"
   ]
  },
  {
   "cell_type": "code",
   "execution_count": null,
   "metadata": {},
   "outputs": [],
   "source": [
    "# folder removing\n",
    "\n",
    "os.rmdir(\"testing_1\")"
   ]
  },
  {
   "cell_type": "code",
   "execution_count": null,
   "metadata": {},
   "outputs": [],
   "source": [
    "# path to folder/file split\n",
    "import os.path\n",
    "\n",
    "print(os.path.split(os.getcwd()))"
   ]
  },
  {
   "cell_type": "code",
   "execution_count": null,
   "metadata": {},
   "outputs": [],
   "source": [
    "# directory / file name of the full path\n",
    "import os.path\n",
    "\n",
    "print(os.path.basename(os.getcwd()))"
   ]
  },
  {
   "cell_type": "code",
   "execution_count": null,
   "metadata": {},
   "outputs": [],
   "source": [
    "# path to folder / file\n",
    "import os.path\n",
    "\n",
    "print(os.path.dirname(os.getcwd()))"
   ]
  },
  {
   "cell_type": "code",
   "execution_count": null,
   "metadata": {},
   "outputs": [],
   "source": [
    "# splitting the filename into a name and extension\n",
    "import os.path\n",
    "\n",
    "print(os.path.splitext(\"file.doc\"))"
   ]
  },
  {
   "cell_type": "code",
   "execution_count": null,
   "metadata": {},
   "outputs": [],
   "source": [
    "# file / folder path formation\n",
    "import os.path\n",
    "\n",
    "print(os.path.join(\"first\", \"second\", \"file.txt\"))\n",
    "print(os.path.join(os.getcwd(), \"subfolder\", \"file.txt\"))"
   ]
  },
  {
   "cell_type": "code",
   "execution_count": null,
   "metadata": {},
   "outputs": [],
   "source": [
    "# file timing\n",
    "import os.path\n",
    "import time\n",
    "\n",
    "f = os.path.join(os.getcwd(), \"files\", \"modules\", \"lib.py\")\n",
    "\n",
    "print(\"File\", f)\n",
    "print(\"Used\", time.ctime(os.path.getatime(f)))\n",
    "print(\"Modified\", time.ctime(os.path.getmtime(f)))\n",
    "print(\"Created\", time.ctime(os.path.getctime(f)))\n",
    "print(\"Size in bytes\", os.path.getsize(f))"
   ]
  },
  {
   "cell_type": "code",
   "execution_count": null,
   "metadata": {},
   "outputs": [],
   "source": [
    "# checking\n",
    "import os.path\n",
    "\n",
    "f = os.path.join(os.getcwd(), \"files\", \"modules\", \"lib.py\")\n",
    "\n",
    "print(os.path.isdir(f))\n",
    "print(os.path.isdir(os.getcwd()))\n",
    "\n",
    "print(os.path.isfile(f))\n",
    "print(os.path.isfile(os.getcwd()))\n",
    "\n",
    "print(os.path.exists(f))\n",
    "print(os.path.exists(os.getcwd()))\n",
    "print(os.path.exists(os.path.join(os.getcwd(), \"not find\")))"
   ]
  },
  {
   "cell_type": "markdown",
   "metadata": {},
   "source": [
    "# pickle\n",
    "\n",
    "The functions implemented in the module are designed to convert any Python object into bytes (serializing the object)."
   ]
  },
  {
   "cell_type": "code",
   "execution_count": null,
   "metadata": {},
   "outputs": [],
   "source": [
    "# converting an object to a byte sequence\n",
    "import pickle\n",
    "\n",
    "scores = {\n",
    "    \"petras\": 3, \n",
    "    \"jonas\": 10, \n",
    "    \"lukas\": 7\n",
    "}\n",
    "\n",
    "scores_data = pickle.dumps(scores)\n",
    "print(scores_data)"
   ]
  },
  {
   "cell_type": "code",
   "execution_count": null,
   "metadata": {},
   "outputs": [],
   "source": [
    "# converting a byte sequence to an object\n",
    "import pickle\n",
    "\n",
    "scores = pickle.loads(scores_data)\n",
    "print(scores)"
   ]
  },
  {
   "cell_type": "code",
   "execution_count": null,
   "metadata": {},
   "outputs": [],
   "source": [
    "# writing an object to a file\n",
    "import pickle\n",
    "\n",
    "scores = {\n",
    "    \"petras\": 3, \n",
    "    \"jonas\": 10, \n",
    "    \"lukas\": 7\n",
    "}\n",
    "\n",
    "pickle.dump(scores, open(\"scores.p\", \"wb\"))"
   ]
  },
  {
   "cell_type": "code",
   "execution_count": null,
   "metadata": {},
   "outputs": [],
   "source": [
    "# loading an object from a file\n",
    "import pickle\n",
    "\n",
    "scores = pickle.load(open(\"scores.p\", \"rb\"))\n",
    "print(scores)"
   ]
  },
  {
   "cell_type": "markdown",
   "metadata": {},
   "source": [
    "# tempfile\n",
    "\n",
    "Functions implemented in the module allow to create a temporary file for data storage. This method is suitable if you do not need to share the file with other systems as there will be no references to the temporary file in the file system table. After closing the file immediately removed."
   ]
  },
  {
   "cell_type": "code",
   "execution_count": null,
   "metadata": {},
   "outputs": [],
   "source": [
    "import tempfile\n",
    "\n",
    "print(\"TemporaryFile:\")\n",
    "temp = tempfile.TemporaryFile()\n",
    "try:\n",
    "    print(\"temp:\", temp)\n",
    "    print(\"temp.name:\", temp.name)\n",
    "finally:\n",
    "    temp.close()"
   ]
  },
  {
   "cell_type": "markdown",
   "metadata": {},
   "source": [
    "# urllib\n",
    "\n",
    "This module gives you access to Internet services if you know their addresses."
   ]
  },
  {
   "cell_type": "code",
   "execution_count": null,
   "metadata": {},
   "outputs": [],
   "source": [
    "# GET\n",
    "from urllib.request import urlopen\n",
    "\n",
    "response = urlopen(\"https://jsonplaceholder.typicode.com/posts/\")\n",
    "print(\"RESPONSE:\", response)\n",
    "print(\"URL     :\", response.geturl())\n",
    "\n",
    "headers = response.info()\n",
    "print(\"DATE    :\", headers[\"date\"])\n",
    "print(\"HEADERS :\")\n",
    "print(\"---------\")\n",
    "print(headers)\n",
    "\n",
    "data = response.read()\n",
    "print(\"LENGTH  :\", len(data))\n",
    "print(\"DATA    :\")\n",
    "print(\"---------\")\n",
    "print(data)"
   ]
  },
  {
   "cell_type": "code",
   "execution_count": null,
   "metadata": {},
   "outputs": [],
   "source": [
    "from urllib import parse\n",
    "from urllib import request\n",
    "\n",
    "query_args = {\n",
    "    \"title\": \"Python programming\",\n",
    "    \"body\": \"Hello world\",\n",
    "    \"userId\": 1\n",
    "}\n",
    "\n",
    "encoded_args = parse.urlencode(query_args).encode(\"utf-8\")\n",
    "\n",
    "url = \"https://jsonplaceholder.typicode.com/posts\"\n",
    "\n",
    "print(request.urlopen(url, data=encoded_args).read().decode(\"utf-8\"))"
   ]
  },
  {
   "cell_type": "markdown",
   "metadata": {},
   "source": [
    "# Task\n",
    "\n",
    "1.  Check the other modules included in the standard library."
   ]
  }
 ],
 "metadata": {
  "kernelspec": {
   "display_name": "Python 3",
   "language": "python",
   "name": "python3"
  },
  "language_info": {
   "codemirror_mode": {
    "name": "ipython",
    "version": 3
   },
   "file_extension": ".py",
   "mimetype": "text/x-python",
   "name": "python",
   "nbconvert_exporter": "python",
   "pygments_lexer": "ipython3",
   "version": "3.6.6"
  }
 },
 "nbformat": 4,
 "nbformat_minor": 2
}
