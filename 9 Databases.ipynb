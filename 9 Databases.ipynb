{
 "cells": [
  {
   "cell_type": "markdown",
   "metadata": {},
   "source": [
    "# SQLAlchemy\n",
    "\n",
    "SQLAlchemy is a library that facilitates the communication between Python programs and databases. Most of the times, this library is used as an Object Relational Mapper (ORM) tool that translates Python classes to tables on relational databases and automatically converts function calls to SQL statements. SQLAlchemy provides a standard interface that allows developers to create database-agnostic code to communicate with a wide variety of database engines.\n",
    "\n",
    "Application <-> SQLAlchemy <-> DBAPI (DataBase API) databases (MySQL, SQLite, PostgreSQL etc.)\n",
    "\n",
    "Whenever we want to use SQLAlchemy to interact with a database, we need to create an Engine, which will perform communication with DBAPI functions. \n",
    "\n",
    "https://www.pythonsheets.com/notes/python-sqlalchemy.html"
   ]
  },
  {
   "cell_type": "code",
   "execution_count": null,
   "metadata": {},
   "outputs": [],
   "source": [
    "# creating an engine for working with SQLite database\n",
    "from sqlalchemy import create_engine\n",
    "engine = create_engine(\"sqlite:///:memory:\", echo=True) # echo=True will allow you to see all SQL commands"
   ]
  },
  {
   "cell_type": "markdown",
   "metadata": {},
   "source": [
    "The declarative system is used to specify database tables and their corresponding Python classes. This system allows you to associate tables with classes. It uses a base class to control the interface between classes and tables."
   ]
  },
  {
   "cell_type": "code",
   "execution_count": null,
   "metadata": {},
   "outputs": [],
   "source": [
    "# a declarative base class is created\n",
    "from sqlalchemy.ext.declarative import declarative_base\n",
    "Base = declarative_base()"
   ]
  },
  {
   "cell_type": "markdown",
   "metadata": {},
   "source": [
    "The SQLAlchemy library supports all popular data types. Minimum requirements for model development: \\_\\_tablename\\_\\_ and at least one column."
   ]
  },
  {
   "cell_type": "code",
   "execution_count": null,
   "metadata": {},
   "outputs": [],
   "source": [
    "# a declarative class is created\n",
    "from sqlalchemy import Column, Integer, String\n",
    "\n",
    "class User(Base):\n",
    "    __tablename__ = \"users\"\n",
    "    \n",
    "    id = Column(Integer, primary_key=True)\n",
    "    name = Column(String)\n",
    "    fullname = Column(String)\n",
    "    password = Column(String)\n",
    "    \n",
    "    def __repr__(self):\n",
    "        return \"<User(name='%s', fullname='%s', password='%s')>\" % (self.name, self.fullname, self.password)"
   ]
  },
  {
   "cell_type": "markdown",
   "metadata": {},
   "source": [
    "After the User class is created through the declarative system, we described the information about the table, also called metadata. The created table object is a member of the larger collection MetaData. MetaData is a register of all table objects and it performs their creation in a database."
   ]
  },
  {
   "cell_type": "code",
   "execution_count": null,
   "metadata": {},
   "outputs": [],
   "source": [
    "User.__table__"
   ]
  },
  {
   "cell_type": "code",
   "execution_count": null,
   "metadata": {},
   "outputs": [],
   "source": [
    "# a table creation in the database\n",
    "Base.metadata.create_all(engine)"
   ]
  },
  {
   "cell_type": "markdown",
   "metadata": {},
   "source": [
    "The Users class is now associated with the database table."
   ]
  },
  {
   "cell_type": "code",
   "execution_count": null,
   "metadata": {},
   "outputs": [],
   "source": [
    "# an object of the class Users is created\n",
    "tom_user = User(name=\"tom\", fullname=\"Tomas Jonaitis\", password=\"tomo_password\")"
   ]
  },
  {
   "cell_type": "code",
   "execution_count": null,
   "metadata": {},
   "outputs": [],
   "source": [
    "print(tom_user.name, tom_user.fullname, tom_user.password)"
   ]
  },
  {
   "cell_type": "markdown",
   "metadata": {},
   "source": [
    "After creating the desired tables, you can start \"chatting\" (creating, editing, deleting, searching records) with the database. This is done through a session."
   ]
  },
  {
   "cell_type": "code",
   "execution_count": null,
   "metadata": {},
   "outputs": [],
   "source": [
    "from sqlalchemy.orm import sessionmaker\n",
    "Session = sessionmaker(bind=engine)\n",
    "session = Session()"
   ]
  },
  {
   "cell_type": "code",
   "execution_count": null,
   "metadata": {},
   "outputs": [],
   "source": [
    "# data transfer to session\n",
    "session.add(tom_user)"
   ]
  },
  {
   "cell_type": "markdown",
   "metadata": {},
   "source": [
    "While the data is not stored in the database, it is in a pending state. The data will be written to the table only when the commit command is called. If the data search function were called at this time, the data in the pending state would be automatically written to the database. \n",
    "\n",
    "The library ensures that all operations performed in a session will operate on the same data."
   ]
  },
  {
   "cell_type": "code",
   "execution_count": null,
   "metadata": {},
   "outputs": [],
   "source": [
    "# a search is performed in the database by the name field\n",
    "our_user = session.query(User).filter_by(name=\"tom\").first()\n",
    "\n",
    "print(our_user)\n",
    "print(tom_user is our_user)"
   ]
  },
  {
   "cell_type": "code",
   "execution_count": null,
   "metadata": {},
   "outputs": [],
   "source": [
    "# new User objects are written to the session add_all([])\n",
    "session.add_all([\n",
    "    User(name=\"jonas\", fullname=\"Jonas Jonaitis\", password=\"foobar\"),\n",
    "    User(name=\"petras\", fullname=\"Petras Petraitis\", password=\"xxg527\"),\n",
    "    User(name=\"zigmas\", fullname=\"Zigmas Zigmaitis\", password=\"blah\")])"
   ]
  },
  {
   "cell_type": "code",
   "execution_count": null,
   "metadata": {},
   "outputs": [],
   "source": [
    "# the user password is changed\n",
    "tom_user.password = \"f8s7ccs\""
   ]
  },
  {
   "cell_type": "markdown",
   "metadata": {},
   "source": [
    "The recorded data for the session can be seen:"
   ]
  },
  {
   "cell_type": "code",
   "execution_count": null,
   "metadata": {},
   "outputs": [],
   "source": [
    "print(session.dirty)\n",
    "print(session.new)\n",
    "print(session.deleted)"
   ]
  },
  {
   "cell_type": "code",
   "execution_count": null,
   "metadata": {},
   "outputs": [],
   "source": [
    "# initiating the writting data into the database\n",
    "session.commit()"
   ]
  },
  {
   "cell_type": "code",
   "execution_count": null,
   "metadata": {},
   "outputs": [],
   "source": [
    "# the data is listed in the database, the generated field values can be seen\n",
    "print(tom_user.id)"
   ]
  },
  {
   "cell_type": "markdown",
   "metadata": {},
   "source": [
    "# Columns\n",
    "\n",
    "Column - a model attribute that stores one type of data, it corresponds to a column in a database table. A column has attributes that give it certain properties. Commonly used: default, autoincrement, nullable, primary_key, unique, ForeignKey. More about columns: http://docs.sqlalchemy.org/en/latest/core/metadata.html#sqlalchemy.schema.Column.\n",
    "\n",
    "defaut - sets the default value of the column field. The value is assigned to the field if it is left blank during recording.\n",
    "\n",
    "autoincrement - True/False, sets the \"autoincrement\" property of the field. Applies to Integer type columns.\n",
    "\n",
    "nullable - True/False if the column is set to False - during recording, a check is made to ensure that the field is not empty, i.e. whether an empty value is possible or not.\n",
    "\n",
    "primary_key - True/False if True sets the field as primary.\n",
    "\n",
    "unique - True/False if True a check is made during insertion that the field value is unique across all column entries.\n",
    "\n",
    "ForeignKey - a field constraint, which indicates that the column contains data from the specified column."
   ]
  },
  {
   "cell_type": "code",
   "execution_count": null,
   "metadata": {},
   "outputs": [],
   "source": [
    "from sqlalchemy import create_engine\n",
    "from sqlalchemy.ext.declarative import declarative_base\n",
    "from sqlalchemy import Column, Integer, String, Numeric, DateTime\n",
    "\n",
    "engine = create_engine(\"sqlite:///:memory:\", echo=True)\n",
    "\n",
    "Base = declarative_base()\n",
    "\n",
    "class Temporary(Base):\n",
    "    __tablename__ = \"temporary\"\n",
    "    \n",
    "    id = Column(Integer, primary_key=True, autoincrement=True)\n",
    "    name = Column(String(20), default='DEFAULT_VALUE')\n",
    "    fullname = Column(String(30), nullable=False)\n",
    "    price = Column(Numeric(10, 2), unique=True)\n",
    "    created_at = Column(DateTime)\n",
    "    \n",
    "    def __repr__(self):\n",
    "        return \"<Temporary(name='%s', fullname='%s', price='%s', created_at='%s')>\" % \\\n",
    "    (self.name, self.fullname, self.price, self.created_at)\n",
    "\n",
    "Base.metadata.create_all(engine)"
   ]
  },
  {
   "cell_type": "code",
   "execution_count": null,
   "metadata": {},
   "outputs": [],
   "source": [
    "from sqlalchemy.orm import sessionmaker\n",
    "import datetime\n",
    "\n",
    "Session = sessionmaker(bind=engine)\n",
    "session = Session()\n",
    "\n",
    "temp = Temporary(fullname='Jonas Petraitis', price=10.34, created_at=datetime.datetime.now())\n",
    "\n",
    "session.add(temp)\n",
    "session.commit()"
   ]
  },
  {
   "cell_type": "code",
   "execution_count": null,
   "metadata": {},
   "outputs": [],
   "source": [
    "print(session.query(Temporary).all())"
   ]
  },
  {
   "cell_type": "markdown",
   "metadata": {},
   "source": [
    "# Column types\n",
    "\n",
    "The most commonly used column data types: Integer, Numeric, String, DateTime. Each type can have its own type-specific parameters, such as length, uniqueness etc. More about data types: http://sqlalchemy-html.readthedocs.io/en/rel_1_0_6/core/type_basics.html.\n",
    "\n",
    "Integer\n",
    "```python\n",
    "field_name = Column(Integer)\n",
    "```\n",
    "\n",
    "Numeric\n",
    "```python\n",
    "field_name = Column(Number(precision=10, scale=2, decimal_return_scale=None, asdecimal=True))\n",
    "```\n",
    "\n",
    "String\n",
    "```python\n",
    "field_name = Column(String(length=32, collation=None, convert_unicode=False, unicode_error=None, _warn_on_bytestring=False))\n",
    "```\n",
    "\n",
    "DateTime\n",
    "```python\n",
    "field_name = Column(DateTime(timezone=False))\n",
    "```"
   ]
  },
  {
   "cell_type": "code",
   "execution_count": null,
   "metadata": {},
   "outputs": [],
   "source": [
    "from sqlalchemy import create_engine\n",
    "from sqlalchemy.ext.declarative import declarative_base\n",
    "from sqlalchemy import Column, Integer, String, Numeric, DateTime\n",
    "\n",
    "engine = create_engine(\"sqlite:///:memory:\", echo=True)\n",
    "\n",
    "Base = declarative_base()\n",
    "\n",
    "class Temporary(Base):\n",
    "    __tablename__ = \"temporary\"\n",
    "    \n",
    "    id = Column(Integer, primary_key=True)\n",
    "    name = Column(String(20))\n",
    "    fullname = Column(String(30))\n",
    "    price = Column(Numeric(10, 2))\n",
    "    created_at = Column(DateTime)\n",
    "    \n",
    "    def __repr__(self):\n",
    "        return \"<Temporary(name='%s', fullname='%s', price='%s', created_at='%s')>\" % \\\n",
    "    (self.name, self.fullname, self.price, self.created_at)\n",
    "\n",
    "Base.metadata.create_all(engine)"
   ]
  },
  {
   "cell_type": "code",
   "execution_count": null,
   "metadata": {},
   "outputs": [],
   "source": [
    "from sqlalchemy.orm import sessionmaker\n",
    "import datetime\n",
    "\n",
    "Session = sessionmaker(bind=engine)\n",
    "session = Session()\n",
    "\n",
    "temp = Temporary(id=1, name='Jonas', fullname='Jonas Petraitis', price=10.3411, created_at=datetime.datetime.now())\n",
    "\n",
    "session.add(temp)\n",
    "session.commit()"
   ]
  },
  {
   "cell_type": "code",
   "execution_count": null,
   "metadata": {},
   "outputs": [],
   "source": [
    "print(session.query(Temporary).all())"
   ]
  },
  {
   "cell_type": "markdown",
   "metadata": {},
   "source": [
    "# Rolling back\n",
    "\n",
    "Because sessions work with transactions, there is an option to revert not commit changes."
   ]
  },
  {
   "cell_type": "code",
   "execution_count": null,
   "metadata": {},
   "outputs": [],
   "source": [
    "tom_user.name = \"vidmantas\"\n",
    "\n",
    "fake_user = User(name=\"netikras\", fullname=\"Netikras vardas\", password=\"Netikras slaptažodis\")\n",
    "session.add(fake_user)"
   ]
  },
  {
   "cell_type": "code",
   "execution_count": null,
   "metadata": {},
   "outputs": [],
   "source": [
    "# the data is listed in the transaction\n",
    "print(session.query(User).filter(User.name.in_([\"vidmantas\", \"netikras\"])).all())"
   ]
  },
  {
   "cell_type": "code",
   "execution_count": null,
   "metadata": {},
   "outputs": [],
   "source": [
    "# rolling back\n",
    "session.rollback()"
   ]
  },
  {
   "cell_type": "code",
   "execution_count": null,
   "metadata": {},
   "outputs": [],
   "source": [
    "print(session.query(User).filter(User.name.in_([\"vidmantas\", \"netikras\", \"tom\"])).all())\n",
    "print(fake_user in session)"
   ]
  },
  {
   "cell_type": "markdown",
   "metadata": {},
   "source": [
    "# Query formation\n",
    "\n",
    "A query object is created using the Session method query()."
   ]
  },
  {
   "cell_type": "code",
   "execution_count": null,
   "metadata": {},
   "outputs": [],
   "source": [
    "for instance in session.query(User).order_by(User.id):\n",
    "    print(instance.name, instance.fullname)"
   ]
  },
  {
   "cell_type": "code",
   "execution_count": null,
   "metadata": {},
   "outputs": [],
   "source": [
    "# the request for specific fields returns the response as a list\n",
    "for name, fullname in session.query(User.name, User.fullname):\n",
    "    print(name, fullname)\n",
    "\n",
    "for row in session.query(User.name, User.fullname):\n",
    "    print(row)\n",
    "    \n",
    "for row in session.query(User.name, User.fullname):\n",
    "    print(row.name, row.fullname)\n",
    "    \n",
    "for row in session.query(User.name.label(\"name_label\")).all():\n",
    "    print(row.name_label)"
   ]
  },
  {
   "cell_type": "code",
   "execution_count": null,
   "metadata": {},
   "outputs": [],
   "source": [
    "# data restriction LIMIT and OFFSET\n",
    "for u in session.query(User).order_by(User.id)[1:3]:\n",
    "    print(u)"
   ]
  },
  {
   "cell_type": "code",
   "execution_count": null,
   "metadata": {},
   "outputs": [],
   "source": [
    "# filtering with filter_by(). filter_by() for generating simple queries\n",
    "# by selecting them according column names using kwargs\n",
    "for name in session.query(User.name).filter_by(name=\"tom\"):\n",
    "    print(name)\n",
    "    \n",
    "for name in session.query(User.name).filter_by(name=\"tom\").filter_by(fullname=\"Tomas Jonaitis\"):\n",
    "    print(name)"
   ]
  },
  {
   "cell_type": "code",
   "execution_count": null,
   "metadata": {},
   "outputs": [],
   "source": [
    "# filtering with filter(). filter() allows you to form more complex queries without using kwargs\n",
    "for name in session.query(User.name).filter(User.fullname==\"Tomas Jonaitis\"):\n",
    "    print(name)\n",
    "    \n",
    "for name in session.query(User.name).filter(User.fullname==\"Tomas Jonaitis\").filter(User.name==\"tom\"):\n",
    "    print(name)"
   ]
  },
  {
   "cell_type": "markdown",
   "metadata": {},
   "source": [
    "The most commonly used filtering operations:\n",
    "1. Equal\n",
    "```python\n",
    "query.filter(User.name == \"tom\")\n",
    "```\n",
    "2. Not equal\n",
    "```python\n",
    "query.filter(User.name != \"tom\")\n",
    "```\n",
    "3. Like\n",
    "```python\n",
    "query.filter(User.name.like(\"%tom%\"))\n",
    "```\n",
    "4. ilike (case sensitive)\n",
    "```python\n",
    "query.filter(User.name.ilike(\"%tom%\"))\n",
    "```\n",
    "5. In\n",
    "```python\n",
    "query.filter(User.name.in_([\"tom\", \"ed\"]))\n",
    "# can be used and query()\n",
    "query.filter(User.name.in_(session.query(User.name).filter(User.name.like(\"%tom%\"))))\n",
    "```\n",
    "6. Not in\n",
    "```python\n",
    "query.filter(~User.name.in_([\"ed\", \"tom\"]))\n",
    "```\n",
    "7. Is null\n",
    "```python\n",
    "query.filter(User.name == None)\n",
    "query.filter(User.name.is_(None))\n",
    "```\n",
    "8. Is not null\n",
    "```python\n",
    "query.filter(User.name != None)\n",
    "query.filter(User.name.isnot(None))\n",
    "```\n",
    "9. And\n",
    "```python\n",
    "# using and_()\n",
    "from sqlalchemy import and_\n",
    "query.filter(and_(User.name == \"tom\", User.fullname == \"Tomas Jonaitis\"))\n",
    "# multiple queries in one filter()\n",
    "query.filter(User.name == \"tom\", User.fullname == \"Tomas Jonaitis\")\n",
    "# multiple filter() or filter_by() methods\n",
    "query.filter(User.name == \"tom\").filter(User.fullname == \"Tomas Jonaitis\")\n",
    "```\n",
    "10. Or\n",
    "```python\n",
    "from sqlalchemy import or_\n",
    "query.filter(or_(User.name == \"tom\", User.name == \"mot\"))\n",
    "```\n",
    "11. Match\n",
    "```python\n",
    "query.filter(User.name.match(\"tom\"))\n",
    "```"
   ]
  },
  {
   "cell_type": "markdown",
   "metadata": {},
   "source": [
    "# Returning lists\n",
    "\n",
    "Query() the object has many methods that immediately execute the SQL query and return the results."
   ]
  },
  {
   "cell_type": "code",
   "execution_count": null,
   "metadata": {},
   "outputs": [],
   "source": [
    "query = session.query(User).filter(User.name.like(\"%m%\")).order_by(User.id)"
   ]
  },
  {
   "cell_type": "code",
   "execution_count": null,
   "metadata": {},
   "outputs": [],
   "source": [
    "# all() returns all objects as a list\n",
    "print(query.all())"
   ]
  },
  {
   "cell_type": "code",
   "execution_count": null,
   "metadata": {},
   "outputs": [],
   "source": [
    "# first() returns the first object from the database\n",
    "print(query.first())"
   ]
  },
  {
   "cell_type": "code",
   "execution_count": null,
   "metadata": {},
   "outputs": [],
   "source": [
    "# one() fully downloads all query strings if no results are available 1 \n",
    "# an error MultipleResultsFound or NoResultFound\n",
    "print(query.one())"
   ]
  },
  {
   "cell_type": "code",
   "execution_count": null,
   "metadata": {},
   "outputs": [],
   "source": [
    "# like one(), only if no entries are found returns None and does not call an error\n",
    "print(query.one_or_none())"
   ]
  },
  {
   "cell_type": "code",
   "execution_count": null,
   "metadata": {},
   "outputs": [],
   "source": [
    "# scalar() calls one() method and if no error occurs, returns the first column of the first row\n",
    "print(query.scalar())"
   ]
  },
  {
   "cell_type": "markdown",
   "metadata": {},
   "source": [
    "# Formation of text queries\n",
    "\n",
    "The use of text commands allows you to form more flexible queries."
   ]
  },
  {
   "cell_type": "code",
   "execution_count": null,
   "metadata": {},
   "outputs": [],
   "source": [
    "# use of text in query formation\n",
    "from sqlalchemy import text\n",
    "\n",
    "for user in session.query(User).filter(text(\"id<224\")).order_by(text(\"id\")).all():\n",
    "    print(user.name)"
   ]
  },
  {
   "cell_type": "code",
   "execution_count": null,
   "metadata": {},
   "outputs": [],
   "source": [
    "# specifying parameters with the params command\n",
    "session.query(User).filter(text(\"id<:value and name=:name\")).params(value=224, name=\"tom\").order_by(User.id).one()"
   ]
  },
  {
   "cell_type": "code",
   "execution_count": null,
   "metadata": {},
   "outputs": [],
   "source": [
    "# by using text() and from_statement() a full-text SQL query can be generated\n",
    "session.query(User).from_statement(text(\"SELECT * FROM users where name=:name\")).params(name=\"tom\").all()"
   ]
  },
  {
   "cell_type": "code",
   "execution_count": null,
   "metadata": {},
   "outputs": [],
   "source": [
    "# when the query contains duplicate names it is difficult to analyze and form queries for this purpose \n",
    "#it is possible to link the columns described in the text with the object fields\n",
    "stmt = text(\"SELECT name, id, fullname, password FROM users where name=:name\")\n",
    "stmt = stmt.columns(User.name, User.id, User.fullname, User.password)\n",
    "session.query(User).from_statement(stmt).params(name=\"tom\").all()"
   ]
  },
  {
   "cell_type": "code",
   "execution_count": null,
   "metadata": {},
   "outputs": [],
   "source": [
    "# query fields can also be specified in a query() query\n",
    "stmt = text(\"SELECT name, id FROM users where name=:name\")\n",
    "stmt = stmt.columns(User.name, User.id)\n",
    "session.query(User.id, User.name).from_statement(stmt).params(name=\"tom\").all()"
   ]
  },
  {
   "cell_type": "markdown",
   "metadata": {},
   "source": [
    "# Calculation of records"
   ]
  },
  {
   "cell_type": "code",
   "execution_count": null,
   "metadata": {},
   "outputs": [],
   "source": [
    "# in this way, the entire data request is placed in the subquery SELECT count(*) AS count_1 FROM (SELECT .....)\n",
    "session.query(User).filter(User.name.like(\"%m%\")).count()"
   ]
  },
  {
   "cell_type": "code",
   "execution_count": null,
   "metadata": {},
   "outputs": [],
   "source": [
    "# calculation with func.count() a query is formed where only a specific field is counted\n",
    "# SELECT count(users.name) AS count_1, users.name AS users_name\n",
    "# FROM users GROUP BY users.name\n",
    "from sqlalchemy import func\n",
    "session.query(func.count(User.name), User.name).group_by(User.name).all()"
   ]
  },
  {
   "cell_type": "code",
   "execution_count": null,
   "metadata": {},
   "outputs": [],
   "source": [
    "# simple countable queries\n",
    "# SELECT count(*) FROM table\n",
    "session.query(func.count(\"*\")).select_from(User).scalar()"
   ]
  },
  {
   "cell_type": "code",
   "execution_count": null,
   "metadata": {},
   "outputs": [],
   "source": [
    "session.query(func.count(User.id)).scalar()"
   ]
  },
  {
   "cell_type": "markdown",
   "metadata": {},
   "source": [
    "# Creating relationships between tables\n",
    "\n",
    "A new model is created, which will be linked to the User model with one to many relation, i.e. one User entry will have many addresses. ForeignKey - indicates that the values in the user_id column are related to the values in the column of another model (table). Relationship - specifies in the ORM that the Address class must be associated with the User class and vice versa.\n",
    "\n",
    "More about relationships: http://docs.sqlalchemy.org/en/latest/orm/basic_relationships.html.\n",
    "\n",
    "Instead back_populates can be used backref, then there is no need to create a second relation, it is created automatically http://docs.sqlalchemy.org/en/latest/orm/backref.html."
   ]
  },
  {
   "cell_type": "code",
   "execution_count": null,
   "metadata": {},
   "outputs": [],
   "source": [
    "from sqlalchemy import ForeignKey\n",
    "from sqlalchemy.orm import relationship\n",
    "\n",
    "class Address(Base):\n",
    "    __tablename__ = \"addresses\"\n",
    "    id = Column(Integer, primary_key=True)\n",
    "    email_address = Column(String, nullable=False)\n",
    "    user_id = Column(Integer, ForeignKey(\"users.id\"))\n",
    "    \n",
    "    user = relationship(\"User\", back_populates=\"addresses\")\n",
    "\n",
    "    def __repr__(self):\n",
    "        return \"<Address(email_address='%s')>\" % self.email_address"
   ]
  },
  {
   "cell_type": "code",
   "execution_count": null,
   "metadata": {},
   "outputs": [],
   "source": [
    "User.addresses = relationship(\"Address\", order_by=Address.id, back_populates=\"user\")"
   ]
  },
  {
   "cell_type": "code",
   "execution_count": null,
   "metadata": {},
   "outputs": [],
   "source": [
    "# changes are written to a database\n",
    "Base.metadata.create_all(engine)"
   ]
  },
  {
   "cell_type": "code",
   "execution_count": null,
   "metadata": {},
   "outputs": [],
   "source": [
    "# a new User entry is created, its addresses can be accessed via User.addresses\n",
    "sim = User(name=\"simas\", fullname=\"Simas Simavičius\", password=\"gjffdd\")\n",
    "print(sim.addresses)"
   ]
  },
  {
   "cell_type": "code",
   "execution_count": null,
   "metadata": {},
   "outputs": [],
   "source": [
    "# creation of new addresses is possible through the User object\n",
    "sim.addresses = [\n",
    "    Address(email_address=\"sim@google.com\"),\n",
    "    Address(email_address=\"sim@yahoo.com\")\n",
    "]\n",
    "\n",
    "print(sim.addresses)"
   ]
  },
  {
   "cell_type": "code",
   "execution_count": null,
   "metadata": {},
   "outputs": [],
   "source": [
    "# since the models are linked in both directions, any elements of the linked models can be accessed\n",
    "print(sim.addresses[1].user)"
   ]
  },
  {
   "cell_type": "code",
   "execution_count": null,
   "metadata": {},
   "outputs": [],
   "source": [
    "# the data is written to a database\n",
    "session.add(sim)\n",
    "session.commit()"
   ]
  },
  {
   "cell_type": "code",
   "execution_count": null,
   "metadata": {},
   "outputs": [],
   "source": [
    "# when querying, user data addresses are not queried for the same query\n",
    "sim = session.query(User).filter_by(name=\"simas\").one()\n",
    "print(sim)"
   ]
  },
  {
   "cell_type": "code",
   "execution_count": null,
   "metadata": {},
   "outputs": [],
   "source": [
    "# user addresses are queried from the database only when needed\n",
    "print(sim.addresses)"
   ]
  },
  {
   "cell_type": "markdown",
   "metadata": {},
   "source": [
    "# Related table queries\n",
    "\n",
    "Query.filter() can be used to select data from multiple related tables, to form simple realted table queries."
   ]
  },
  {
   "cell_type": "code",
   "execution_count": null,
   "metadata": {},
   "outputs": [],
   "source": [
    "# FROM users, addresses WHERE users.id = addresses.user_id\n",
    "for u, a in session.query(User, Address).filter(User.id==Address.user_id).\\\n",
    "                                        filter(Address.email_address==\"sim@google.com\").\\\n",
    "                                        all():\n",
    "    print(u)\n",
    "    print(a)"
   ]
  },
  {
   "cell_type": "code",
   "execution_count": null,
   "metadata": {},
   "outputs": [],
   "source": [
    "# FROM users, addresses WHERE users.id = addresses.user_id\n",
    "for u, a in session.query(User, Address).filter(User.id==Address.user_id).\\\n",
    "                                        filter(User.name==\"simas\").\\\n",
    "                                        all():\n",
    "    print(u)\n",
    "    print(a)"
   ]
  },
  {
   "cell_type": "code",
   "execution_count": null,
   "metadata": {},
   "outputs": [],
   "source": [
    "# FROM users JOIN addresses ON users.id = addresses.user_id\n",
    "session.query(User).join(Address).filter(Address.email_address==\"sim@google.com\").all()"
   ]
  },
  {
   "cell_type": "code",
   "execution_count": null,
   "metadata": {},
   "outputs": [],
   "source": [
    "# FROM users JOIN addresses ON users.id = addresses.user_id\n",
    "session.query(User).join(Address).filter(User.name.like(\"%m%\")).all()"
   ]
  },
  {
   "cell_type": "markdown",
   "metadata": {},
   "source": [
    "Because there is only one foreign key between the User and Address tables, query.join() can easily merge the tables, but in case if there are no or multiple keys it is required to use a different structure.\n",
    "```python\n",
    "query.join(Address, User.id==Address.user_id)    # specifies which fields to join\n",
    "query.join(User.addresses)                       # indicates a connection from left to right\n",
    "query.join(Address, User.addresses)              # indicates the connection via the model connection\n",
    "query.join(\"addresses\")                          # same using text\n",
    "```\n",
    "\n",
    "Outer join:\n",
    "```python\n",
    "query.outerjoin(User.addresses)\n",
    "```"
   ]
  },
  {
   "cell_type": "markdown",
   "metadata": {},
   "source": [
    "### Alias\n",
    "\n",
    "When creating queries, sometimes there are situations where the same table needs to be called multiple times. In this situation, it is necessary to use table alias that allow you to separate two identical tables. "
   ]
  },
  {
   "cell_type": "code",
   "execution_count": null,
   "metadata": {},
   "outputs": [],
   "source": [
    "from sqlalchemy.orm import aliased\n",
    "adalias1 = aliased(Address)\n",
    "adalias2 = aliased(Address)\n",
    "\n",
    "for username, email1, email2 in session.query(User.name, adalias1.email_address, adalias2.email_address).\\\n",
    "                                join(adalias1, User.addresses).\\\n",
    "                                join(adalias2, User.addresses).\\\n",
    "                                filter(adalias1.email_address==\"sim@google.com\").\\\n",
    "                                filter(adalias2.email_address==\"sim@yahoo.com\"):\n",
    "    print(username, email1, email2)"
   ]
  },
  {
   "cell_type": "markdown",
   "metadata": {},
   "source": [
    "### Subqueries\n",
    "\n",
    "An SQL query is generated to obtain information about how many addresses each user has:\n",
    "```SQL\n",
    "SELECT users.*, adr_count.address_count FROM users LEFT OUTER JOIN\n",
    "    (SELECT user_id, count(*) AS address_count\n",
    "        FROM addresses GROUP BY user_id) AS adr_count\n",
    "    ON users.id=adr_count.user_id\n",
    "```\n",
    "\n",
    "A query is formed, which counts the number of addresses, and in the second query, a final response is formed."
   ]
  },
  {
   "cell_type": "code",
   "execution_count": null,
   "metadata": {},
   "outputs": [],
   "source": [
    "# a query is formed which counts the number of addresses\n",
    "from sqlalchemy.sql import func\n",
    "stmt = session.query(Address.user_id, func.count(\"*\").\\\n",
    "                     label(\"address_count\")).\\\n",
    "                     group_by(Address.user_id).subquery()"
   ]
  },
  {
   "cell_type": "code",
   "execution_count": null,
   "metadata": {},
   "outputs": [],
   "source": [
    "# having a query that counts quantities can be treated as a table and used in other queries\n",
    "# columns from the subquery are accessed through the 'c' attribute\n",
    "for u, count in session.query(User, stmt.c.address_count).outerjoin(stmt, User.id==stmt.c.user_id).order_by(User.id):\n",
    "    print(u, count)"
   ]
  },
  {
   "cell_type": "code",
   "execution_count": null,
   "metadata": {},
   "outputs": [],
   "source": [
    "# to get the address item used aliased()\n",
    "stmt = session.query(Address).\\\n",
    "                    filter(Address.email_address != 'j25@yahoo.com').\\\n",
    "                    subquery()\n",
    "        \n",
    "adalias = aliased(Address, stmt)\n",
    "\n",
    "for user, address in session.query(User, adalias).\\\n",
    "        join(adalias, User.addresses):\n",
    "    print(user)\n",
    "    print(address)"
   ]
  },
  {
   "cell_type": "markdown",
   "metadata": {},
   "source": [
    "## Exists command\n",
    "\n",
    "The Exists keyword in SQL returns True if there are rows in the given expression."
   ]
  },
  {
   "cell_type": "code",
   "execution_count": null,
   "metadata": {},
   "outputs": [],
   "source": [
    "# exists command construcion\n",
    "from sqlalchemy.sql import exists\n",
    "\n",
    "stmt = exists().where(Address.user_id==User.id)\n",
    "for name, in session.query(User.name).filter(stmt):\n",
    "    print(name)"
   ]
  },
  {
   "cell_type": "code",
   "execution_count": null,
   "metadata": {},
   "outputs": [],
   "source": [
    "# exists command alternative - any()\n",
    "for name, in session.query(User.name).\\\n",
    "        filter(User.addresses.any()):\n",
    "    print(name)"
   ]
  },
  {
   "cell_type": "code",
   "execution_count": null,
   "metadata": {},
   "outputs": [],
   "source": [
    "# In any() command can be specified filtering criteria\n",
    "for name, in session.query(User.name).\\\n",
    "        filter(User.addresses.any(Address.email_address.like(\"%google%\"))):\n",
    "    print(name)"
   ]
  },
  {
   "cell_type": "code",
   "execution_count": null,
   "metadata": {},
   "outputs": [],
   "source": [
    "# has() command is alternative to any(), used only with many to one relation\n",
    "session.query(Address).filter(~Address.user.has(User.name==\"sim\")).all()"
   ]
  },
  {
   "cell_type": "markdown",
   "metadata": {},
   "source": [
    "# Deleting records"
   ]
  },
  {
   "cell_type": "code",
   "execution_count": null,
   "metadata": {},
   "outputs": [],
   "source": [
    "# deleting records\n",
    "session.delete(sim)\n",
    "session.query(User).filter_by(name=\"sim\").count()"
   ]
  },
  {
   "cell_type": "code",
   "execution_count": null,
   "metadata": {},
   "outputs": [],
   "source": [
    "# addresses remain undeleted\n",
    "session.query(Address).filter(\n",
    "    Address.email_address.in_([\"sim@google.com\", \"sim@yahoo.com\"])\n",
    ").count()"
   ]
  },
  {
   "cell_type": "markdown",
   "metadata": {},
   "source": [
    "Only User data is deleted, but the related Address data remains undeleted and their User fields become NULL. Therefore, in order for the parent and the related records to be deleted, SQLAlchemy must specify this (cascade)."
   ]
  },
  {
   "cell_type": "code",
   "execution_count": null,
   "metadata": {},
   "outputs": [],
   "source": [
    "session.close()\n",
    "Base = declarative_base()\n",
    "\n",
    "class User(Base):\n",
    "    __tablename__ = 'users'\n",
    "\n",
    "    id = Column(Integer, primary_key=True)\n",
    "    name = Column(String)\n",
    "    fullname = Column(String)\n",
    "    password = Column(String)\n",
    "\n",
    "    addresses = relationship(\"Address\", back_populates='user',\n",
    "                             cascade=\"all, delete, delete-orphan\")\n",
    "\n",
    "    def __repr__(self):\n",
    "        return \"<User(name='%s', fullname='%s', password='%s')>\" % (\n",
    "            self.name, self.fullname, self.password)\n",
    "\n",
    "class Address(Base):\n",
    "    __tablename__ = 'addresses'\n",
    "    id = Column(Integer, primary_key=True)\n",
    "    email_address = Column(String, nullable=False)\n",
    "    user_id = Column(Integer, ForeignKey('users.id'))\n",
    "    user = relationship(\"User\", back_populates=\"addresses\")\n",
    "\n",
    "    def __repr__(self):\n",
    "        return \"<Address(email_address='%s')>\" % self.email_address\n",
    "\n",
    "    \n",
    "sim = session.query(User).get(5)\n",
    "print(sim)\n",
    "del sim.addresses[1]\n",
    "\n",
    "session.query(Address).filter(\n",
    "    Address.email_address.in_([\"sim@google.com\", \"sim@yahoo.com\"])\n",
    ").count()"
   ]
  },
  {
   "cell_type": "code",
   "execution_count": null,
   "metadata": {},
   "outputs": [],
   "source": [
    "session.delete(sim)\n",
    "session.query(User).filter_by(name=\"sim\").count()\n",
    "\n",
    "session.query(Address).filter(\n",
    "    Address.email_address.in_([\"sim@google.com\", \"sim@yahoo.com\"])\n",
    ").count()"
   ]
  },
  {
   "cell_type": "markdown",
   "metadata": {},
   "source": [
    "# Tasks\n",
    "\n",
    "1. Create two tables: item {name, unit price, description, balance}, and category {name}. One category has many products, one product belongs to one category.\n",
    "2. Create two categories (toys, food) and create items (more than 1 for each category) and assign them to categories.\n",
    "3. Select all items whose quantity is higher than the number entered by the user, and the price of the item is lower than the number entered by the user.\n",
    "4. Print items in a user-entered category (or part of a category name).\n",
    "5. Print the balance of items in each category.\n",
    "6. Allow the user to enter an item id and a new item balance. Adjust the balance of the user-selected item.\n",
    "7. Allow the user to enter a item name and delete the item.\n",
    "8. Improve the developed Contacts program to use the sqlite database for data storage (create_engine('sqlite:///foo.db') - file, which contains stored data)."
   ]
  }
 ],
 "metadata": {
  "kernelspec": {
   "display_name": "Python 3",
   "language": "python",
   "name": "python3"
  },
  "language_info": {
   "codemirror_mode": {
    "name": "ipython",
    "version": 3
   },
   "file_extension": ".py",
   "mimetype": "text/x-python",
   "name": "python",
   "nbconvert_exporter": "python",
   "pygments_lexer": "ipython3",
   "version": "3.6.6"
  }
 },
 "nbformat": 4,
 "nbformat_minor": 2
}
