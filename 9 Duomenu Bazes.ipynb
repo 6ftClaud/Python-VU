<!DOCTYPE html>
<html>
    <head>
        <title>VU Bendro prisijungimo sistema</title>
            <meta charset="UTF-8">

            <meta name="viewport" content="width=device-width, initial-scale=1.0, maximum-scale=1.0, user-scalable=no" />
            <script type="text/javascript" src="/SSO/resources/jquery-1.8.js"></script>
            <script src="https://sso.vu.lt/SSO/module.php/themevu/js/particles.min.js"></script>
            <link rel="stylesheet" href="https://sso.vu.lt/SSO/module.php/themevu/css/materialize.min.css">
            <link rel="stylesheet" href="https://sso.vu.lt/SSO/module.php/themevu/css/style.min.css">
             <!--[if gt IE 8]><!--><script src="https://sso.vu.lt/SSO/module.php/themevu/js/materialize.min.js"></script><!--<![endif]-->
             <!--[if (IE 7) | (IE 8)]><link rel="stylesheet" href="https://sso.vu.lt/SSO/module.php/themevu/css/oIE.min.css"><![endif]-->
            <link href="https://fonts.googleapis.com/css?family=Raleway:300,400,600&amp;subset=latin-ext" rel="stylesheet">

            <meta name="robots" content="noindex, nofollow" />  
    </head>
    <body>
        <div id="particles-js"></div>


        <div class="container">
            <div class="login-container" style="min-height: 400px;">
                <form id="loginform" action="/SSO/module.php/multiauth/selectsource.php" method="get">

                    <div class="tpHeaderNav">
                        <a id="vu_logo" href="http://www.vu.lt/" target="_blank" title="www.vu.lt">
                                                            <!--[if gt IE 8]><!--><img src="https://sso.vu.lt/SSO/module.php/themevu/logo_sso_lt.svg" alt="logo"><!--<![endif]-->
                                <!--[if (IE 7) | (IE 8)]><img src="https://sso.vu.lt/SSO/module.php/themevu/logo_sso_lt.png" alt="logo"><![endif]-->
                                                    </a>    

                        <div id="top_right">
                         
                            <div class="cm-lng">
                            <a href="https://sso.vu.lt/SSO/module.php/multiauth/selectsource.php?AuthState=_15a8cc5263ed6bba86f468184134060375cf63692e%3Ahttps%3A%2F%2Fsso.vu.lt%2FSSO%2Fsaml2%2Fidp%2FSSOService.php%3Fspentityid%3Dhttps%253A%252F%252Femokymai.vu.lt%252Fauth%252Fsaml2%252Fsp%252Fmetadata.php%26cookieTime%3D1620049407%26RelayState%3Dhttps%253A%252F%252Femokymai.vu.lt%252Fpluginfile.php%252F486919%252Fmod_resource%252Fcontent%252F1%252F9%252520Databases.ipynb&amp;language=lt">  <div class="cm-language cm-btn-active" id="trLink"><span>lt</span></div></a><a href="https://sso.vu.lt/SSO/module.php/multiauth/selectsource.php?AuthState=_15a8cc5263ed6bba86f468184134060375cf63692e%3Ahttps%3A%2F%2Fsso.vu.lt%2FSSO%2Fsaml2%2Fidp%2FSSOService.php%3Fspentityid%3Dhttps%253A%252F%252Femokymai.vu.lt%252Fauth%252Fsaml2%252Fsp%252Fmetadata.php%26cookieTime%3D1620049407%26RelayState%3Dhttps%253A%252F%252Femokymai.vu.lt%252Fpluginfile.php%252F486919%252Fmod_resource%252Fcontent%252F1%252F9%252520Databases.ipynb&amp;language=en">  <div class="cm-language " id="trLink"><span>en</span></div></a>                            </div>
                                                </div>
                    </div>

                    <div class="cm-text" style="padding: 15px 0px 10px 0px;">Paslaugai reikalingas Jūsų tapatybės patvirtinimas</div>

						<input type="hidden" name="AuthState" value="_15a8cc5263ed6bba86f468184134060375cf63692e:https://sso.vu.lt/SSO/saml2/idp/SSOService.php?spentityid=https%3A%2F%2Femokymai.vu.lt%2Fauth%2Fsaml2%2Fsp%2Fmetadata.php&amp;cookieTime=1620049407&amp;RelayState=https%3A%2F%2Femokymai.vu.lt%2Fpluginfile.php%2F486919%2Fmod_resource%2Fcontent%2F1%2F9%2520Databases.ipynb" />
							<div class="input-field col s12"><div class="cm-navi" style="padding: 0px;"><input class="cm-btn" type="submit" name="src-dnVfbGRhcC1kYXJidW90b2phaQ==" id="button-vu_ldap-darbuotojai" value="VU darbuotojai" /></div></div><div class="input-field col s12"><div class="cm-navi" style="padding: 0px;"><input class="cm-btn" type="submit" name="src-dnVfbGRhcC1zdHVkZW50YWk=" id="button-vu_ldap-studentai" value="VU studentai" /></div></div>				
                    <div class="inline"><span class="pull-left description-btn" id="cantLogin">Nepavyksta prisijungti?</span></div>
                    <div id="help-container" class="description closed">
                        <ul>
                            <li>Jei užmiršote slaptažodį, jį <a target='_blank' href='https://id.vu.lt/'>pasikeiskite</a>.</li><li>Jei nesate užsiregistravęs, tai padarykite <a target='_blank' href='https://id.vu.lt'>id.vu.lt</a>.</li><li>Kreipkitės el. p. <a href='mailto:pagalba@vu.lt'>pagalba@vu.lt</a> arba tel. 236 6200</li>                        </ul>
                    </div>
                </form>   
            </div>                     
	    </div>
    </body>
    <script>
      Array.prototype.indexOf||(Array.prototype.indexOf=function(r){for(var t=this.length;t--;)if(this[t]===r)return t;return-1});
      var usrAgent = navigator.userAgent;
      var notAllowed = ["Mozilla/5.0 (Windows NT 10.0; WOW64; Trident/7.0; rv:11.0) like Gecko", "Mozilla/4.0 (compatible; MSIE 7.0; Windows NT 10.0; Win64; x64; Trident/7.0; .NET4.0C; .NET4.0E)"];
      var isAllowed = notAllowed.indexOf(usrAgent) == -1;
      window.innerWidth >= 320 && isAllowed && particlesJS.load("particles-js", 'https://sso.vu.lt/SSO/module.php/themevu/js/particlesjs-config.json', function() {});
      function handleClick(){var e=$(".description");$(e).length&&$(e).toggleClass("open closed")}jQuery(document).ready(function(){var e=$(".description-btn");$(e).click(handleClick)});
    </script>
</html>
