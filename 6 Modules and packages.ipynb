{
 "cells": [
  {
   "cell_type": "markdown",
   "metadata": {
    "collapsed": true
   },
   "source": [
    "# Modules\n",
    "\n",
    "If you quit from the Python interpreter and enter it again, the definitions you have made (functions and variables) are lost. Therefore, if you want to write a somewhat longer program, you are better off using a text editor to prepare the input for the interpreter and running it with that file as input instead. This is known as creating a script. As your program gets longer, you may want to split it into several files for easier maintenance. You may also want to use a handy function that you’ve written in several programs without copying its definition into each program.\n",
    "\n",
    "To support this, Python has a way to put definitions in a file and use them in a script or in an interactive instance of the interpreter. Such a file is called a module; definitions from a module can be imported into other modules or into the main module (the collection of variables that you have access to in a script executed at the top level and in calculator mode).\n",
    "\n",
    "A module is a file containing Python definitions and statements. The file name is the module name with the suffix .py appended. Within a module, the module’s name (as a string) is available as the value of the global variable __name__.\n",
    "\n",
    "File modules/lib.py is a module, which name is \"lib\". This module contains two functions \"add\" and \"subtract\".\n",
    "```python\n",
    "def add(a, b):\n",
    "   \"\"\"This program adds two\n",
    "   numbers and return the result\"\"\"\n",
    "   \n",
    "   result = a + b\n",
    "   return result\n",
    "\n",
    "\n",
    "def subtract(a, b):\n",
    "   \"\"\"This program subtracts two\n",
    "   numbers and return the result\"\"\"\n",
    "   \n",
    "   result = a - b\n",
    "   return result\n",
    "```\n",
    "\n",
    "Functions/classes from module can be used previously imported with command \"import\", e.g.: import lib"
   ]
  },
  {
   "cell_type": "code",
   "execution_count": null,
   "metadata": {},
   "outputs": [],
   "source": [
    "# specifies the directory to be checked for imported modules\n",
    "import sys\n",
    "sys.path.append(\"files/modules\")\n",
    "sys.path.append(\"files/packages\")"
   ]
  },
  {
   "cell_type": "code",
   "execution_count": null,
   "metadata": {},
   "outputs": [],
   "source": [
    "# import module\n",
    "import lib\n",
    "\n",
    "print(lib.add(4, 5))"
   ]
  },
  {
   "cell_type": "code",
   "execution_count": null,
   "metadata": {},
   "outputs": [],
   "source": [
    "# import module and change its alias\n",
    "import lib as l\n",
    "\n",
    "print(l.add(4, 5))"
   ]
  },
  {
   "cell_type": "code",
   "execution_count": null,
   "metadata": {},
   "outputs": [],
   "source": [
    "# importing specific module functions / classes\n",
    "from lib import add, subtract\n",
    "print(add(4, 5))\n",
    "print(subtract(4, 5))"
   ]
  },
  {
   "cell_type": "code",
   "execution_count": null,
   "metadata": {},
   "outputs": [],
   "source": [
    "# importing all functions/classes from the module\n",
    "from lib import *\n",
    "print(add(4, 5))\n",
    "print(subtract(4, 5))"
   ]
  },
  {
   "cell_type": "markdown",
   "metadata": {},
   "source": [
    "dir() - return the list of names in the current local scope."
   ]
  },
  {
   "cell_type": "code",
   "execution_count": null,
   "metadata": {},
   "outputs": [],
   "source": [
    "import lib\n",
    "\n",
    "content = dir(lib)\n",
    "print(content)"
   ]
  },
  {
   "cell_type": "markdown",
   "metadata": {},
   "source": [
    "## The Module Search Path\n",
    "\n",
    "When a module named spam is imported, the interpreter first searches for a built-in module with that name. If not found, it then searches for a file named spam.py in a list of directories given by the variable sys.path. sys.path is initialized from these locations:\n",
    "\n",
    "* The directory containing the input script (or the current directory when no file is specified).\n",
    "* PYTHONPATH (a list of directory names, with the same syntax as the shell variable PATH).\n",
    "* The installation-dependent default."
   ]
  },
  {
   "cell_type": "markdown",
   "metadata": {},
   "source": [
    "## Module reloading\n",
    "\n",
    "Python imports the module once. If we execute the source code:\n",
    "```python\n",
    "import lib\n",
    "import lib\n",
    "import lib\n",
    "```\n",
    "only the first command will be executed. If the module changes during code execution, it must be reloaded to make the changes available. For that is using Python module imp."
   ]
  },
  {
   "cell_type": "code",
   "execution_count": null,
   "metadata": {},
   "outputs": [],
   "source": [
    "import imp\n",
    "import lib\n",
    "imp.reload(lib)"
   ]
  },
  {
   "cell_type": "markdown",
   "metadata": {},
   "source": [
    "## Module \\__name\\__\n",
    "\n",
    "Since there is no main() function in Python, when the command to run a python program is given to the interpreter, the code that is at level 0 indentation is to be executed. However, before doing that, it will define a few special variables. __name__ is one such special variable. If the source file is executed as the main program, the interpreter sets the __name__ variable to have a value “__main__”. If this file is being imported from another module, __name__ will be set to the module’s name."
   ]
  },
  {
   "cell_type": "code",
   "execution_count": null,
   "metadata": {},
   "outputs": [],
   "source": [
    "# module name\n",
    "import lib\n",
    "\n",
    "print(lib.__name__)"
   ]
  },
  {
   "cell_type": "code",
   "execution_count": null,
   "metadata": {},
   "outputs": [],
   "source": [
    "# module: imported or executed\n",
    "import lib_with_name\n",
    "\n",
    "if __name__ == \"__main__\":\n",
    "    print(\"Module is executed\")\n",
    "else:\n",
    "    print(\"Module is imported\")"
   ]
  },
  {
   "cell_type": "markdown",
   "metadata": {},
   "source": [
    "Importing modules is a very expensive process, so the Python interpreter saves the compiled version (.pyc) when importing a module. This file is useful the next time the module is imported. If the interpreter sees that there is a .pyc file, it will not recompile the .py file, but will immediately load the .pyc file. Does the .py file remain unchanged after the .pyc is created? The interpreter decides the time-stamped .pyc file."
   ]
  },
  {
   "cell_type": "markdown",
   "metadata": {},
   "source": [
    "Python has a very extensive standard library, which is designed to make the work of multi-function programmers easier. About them in another lecture."
   ]
  },
  {
   "cell_type": "markdown",
   "metadata": {},
   "source": [
    "# Packages\n",
    "\n",
    "Packages are a way of structuring Python’s module namespace by using “dotted module names”. For example, the module name A.B designates a submodule named B in a package named A. Just like the use of modules saves the authors of different modules from having to worry about each other’s global variable names, the use of dotted module names saves the authors of multi-module packages like NumPy or Pillow from having to worry about each other’s module names."
   ]
  },
  {
   "cell_type": "code",
   "execution_count": null,
   "metadata": {},
   "outputs": [],
   "source": [
    "# import\n",
    "import my_package.lib\n",
    "\n",
    "print(my_package.lib.add(9, 11))"
   ]
  },
  {
   "cell_type": "code",
   "execution_count": null,
   "metadata": {},
   "outputs": [],
   "source": [
    "# import\n",
    "from my_package import lib\n",
    "\n",
    "print(lib.add(9, 11))"
   ]
  },
  {
   "cell_type": "code",
   "execution_count": null,
   "metadata": {},
   "outputs": [],
   "source": [
    "# import\n",
    "from my_package.lib import add\n",
    "\n",
    "print(add(9, 11))"
   ]
  },
  {
   "cell_type": "code",
   "execution_count": null,
   "metadata": {},
   "outputs": [],
   "source": [
    "# import\n",
    "from my_package.lib import Person\n",
    "\n",
    "p = Person(\"John\")\n",
    "print(p.name)"
   ]
  },
  {
   "cell_type": "markdown",
   "metadata": {},
   "source": [
    "# Tasks\n",
    "\n",
    "1. Adjust the programs created in Task 5 (previous lecture) so that the core functions and classes are organized in packages and modules."
   ]
  }
 ],
 "metadata": {
  "kernelspec": {
   "display_name": "Python 3",
   "language": "python",
   "name": "python3"
  },
  "language_info": {
   "codemirror_mode": {
    "name": "ipython",
    "version": 3
   },
   "file_extension": ".py",
   "mimetype": "text/x-python",
   "name": "python",
   "nbconvert_exporter": "python",
   "pygments_lexer": "ipython3",
   "version": "3.7.4"
  }
 },
 "nbformat": 4,
 "nbformat_minor": 2
}
